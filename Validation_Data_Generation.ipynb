{
 "cells": [
  {
   "cell_type": "code",
   "execution_count": 7,
   "id": "256294ce",
   "metadata": {},
   "outputs": [
    {
     "name": "stdout",
     "output_type": "stream",
     "text": [
      "Enter the directory to save the generated datasets (leave blank for current directory): \n",
      "Datasets saved in: C:\\Users\\Admin\\Desktop\\PhD_Data\\Thesis\\GitHubRepository\\Python_Scripts_For_Heatmaps\\Validation\n"
     ]
    }
   ],
   "source": [
    "import os\n",
    "import numpy as np\n",
    "import pandas as pd\n",
    "\n",
    "# Function to generate synthetic data for all scenarios\n",
    "def generate_synthetic_data(scenario, frames=10, n_macrophages=1, n_neutrophils=10):\n",
    "    np.random.seed(43)  # For reproducibility\n",
    "\n",
    "    # Fixed macrophage position\n",
    "    macrophage_positions = pd.DataFrame({\n",
    "        'TRACK_ID': np.zeros(frames, dtype=int),  # Single macrophage, track ID 0\n",
    "        'FRAME': np.arange(1, frames + 1),\n",
    "        'POSITION_X': np.repeat(200, frames),  # Fixed X position\n",
    "        'POSITION_Y': np.repeat(200, frames),  # Fixed Y position\n",
    "    })\n",
    "\n",
    "    # Generate neutrophil positions based on scenario\n",
    "    neutrophil_positions = []\n",
    "    for frame in range(1, frames + 1):\n",
    "        for i in range(n_neutrophils):\n",
    "            if scenario == 'towards':\n",
    "                # Move closer to the fixed macrophage position\n",
    "                x_start, y_start = np.random.uniform(50, 450), np.random.uniform(50, 350)\n",
    "                x = x_start + (200 - x_start) * (frame / frames)  # Macrophage fixed at (200, 200)\n",
    "                y = y_start + (200 - y_start) * (frame / frames)\n",
    "            elif scenario == 'away':\n",
    "                # Move away from the fixed macrophage position\n",
    "                x_start, y_start = np.random.uniform(50, 450), np.random.uniform(50, 350)\n",
    "                x = x_start - (200 - x_start) * (frame / frames)\n",
    "                y = y_start - (200 - y_start) * (frame / frames)\n",
    "            elif scenario == 'static':\n",
    "                # Stay in one place\n",
    "                x, y = np.random.uniform(50, 450), np.random.uniform(50, 450)\n",
    "            neutrophil_positions.append((i, frame, x, y))\n",
    "\n",
    "    neutrophil_positions = pd.DataFrame(neutrophil_positions, columns=['TRACK_ID', 'FRAME', 'POSITION_X', 'POSITION_Y'])\n",
    "\n",
    "    # Generate swarming data (near a subset of neutrophils)\n",
    "    swarming_positions = neutrophil_positions.sample(frac=0.3, random_state=42)\n",
    "    swarming_positions = swarming_positions.rename(columns={'POSITION_X': 'XM um', 'POSITION_Y': 'YM um'})\n",
    "\n",
    "    return macrophage_positions, neutrophil_positions, swarming_positions\n",
    "\n",
    "# Specify output directory\n",
    "output_dir = input(\"Enter the directory to save the generated datasets (leave blank for current directory): \").strip()\n",
    "if not output_dir:\n",
    "    output_dir = os.getcwd()\n",
    "else:\n",
    "    os.makedirs(output_dir, exist_ok=True)\n",
    "\n",
    "# Generate datasets for all three scenarios\n",
    "scenarios = ['towards', 'away', 'static']\n",
    "datasets = {}\n",
    "for scenario in scenarios:\n",
    "    macrophages, neutrophils, swarming = generate_synthetic_data(scenario)\n",
    "    datasets[scenario] = {\n",
    "        'macrophages': macrophages,\n",
    "        'neutrophils': neutrophils,\n",
    "        'swarming': swarming\n",
    "    }\n",
    "\n",
    "# Save datasets to CSV in the specified directory\n",
    "for scenario, data in datasets.items():\n",
    "    data['macrophages'].to_csv(os.path.join(output_dir, f'Macrophages_{scenario.capitalize()}.csv'), index=False)\n",
    "    data['neutrophils'].to_csv(os.path.join(output_dir, f'Neutrophils_{scenario.capitalize()}.csv'), index=False)\n",
    "    data['swarming'].to_csv(os.path.join(output_dir, f'Swarming_{scenario.capitalize()}.csv'), index=False)\n",
    "\n",
    "print(f\"Datasets saved in: {output_dir}\")"
   ]
  },
  {
   "cell_type": "code",
   "execution_count": null,
   "id": "d83144df",
   "metadata": {},
   "outputs": [],
   "source": []
  }
 ],
 "metadata": {
  "kernelspec": {
   "display_name": "Python 3 (ipykernel)",
   "language": "python",
   "name": "python3"
  },
  "language_info": {
   "codemirror_mode": {
    "name": "ipython",
    "version": 3
   },
   "file_extension": ".py",
   "mimetype": "text/x-python",
   "name": "python",
   "nbconvert_exporter": "python",
   "pygments_lexer": "ipython3",
   "version": "3.9.7"
  }
 },
 "nbformat": 4,
 "nbformat_minor": 5
}
